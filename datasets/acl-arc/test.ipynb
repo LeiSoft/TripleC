{
 "cells": [
  {
   "cell_type": "code",
   "execution_count": 1,
   "metadata": {},
   "outputs": [
    {
     "name": "stdout",
     "output_type": "stream",
     "text": [
      "6999 43001\n"
     ]
    }
   ],
   "source": [
    "import json\n",
    "alldata = []\n",
    "with open('all.jsonl', 'r', encoding='utf-8') as f:\n",
    "    for line in f.readlines():\n",
    "        alldata.append(json.loads(line.strip()))\n",
    "\n",
    "wdata = {}\n",
    "y, n = 0, 0\n",
    "with open('./scaffolds/cite-worthiness-scaffold-train.jsonl', 'r', encoding='utf-8') as f:\n",
    "    for line in f.readlines():\n",
    "        d = json.loads(line.strip())\n",
    "        if d['is_citation']:\n",
    "            y += 1\n",
    "        else:\n",
    "            n += 1\n",
    "print(y, n)\n"
   ]
  }
 ],
 "metadata": {
  "interpreter": {
   "hash": "0dcd4ec83837b8554bc20226fba95fdb97a112f322b21fe213505dfa74ddbf76"
  },
  "kernelspec": {
   "display_name": "Python 3.7.6 64-bit ('base': conda)",
   "language": "python",
   "name": "python3"
  },
  "language_info": {
   "codemirror_mode": {
    "name": "ipython",
    "version": 3
   },
   "file_extension": ".py",
   "mimetype": "text/x-python",
   "name": "python",
   "nbconvert_exporter": "python",
   "pygments_lexer": "ipython3",
   "version": "3.7.6"
  },
  "orig_nbformat": 4
 },
 "nbformat": 4,
 "nbformat_minor": 2
}
