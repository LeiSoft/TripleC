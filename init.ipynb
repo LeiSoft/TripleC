{
 "cells": [
  {
   "cell_type": "code",
   "execution_count": 1,
   "metadata": {},
   "outputs": [
    {
     "name": "stdout",
     "output_type": "stream",
     "text": [
      "kashgari OK\n",
      "tensorflow OK\n",
      "spacy OK\n",
      "nltk OK\n",
      "transformers OK\n"
     ]
    }
   ],
   "source": [
    "!sh ../TripleC_init.sh"
   ]
  },
  {
   "cell_type": "code",
   "execution_count": 2,
   "metadata": {},
   "outputs": [],
   "source": [
    "!mkdir -p /root/nltk_data/taggers/averaged_perceptron_tagger\n",
    "!cp ../libs/averaged_perceptron_tagger.pickle /root/nltk_data/taggers/averaged_perceptron_tagger"
   ]
  },
  {
   "cell_type": "code",
   "execution_count": null,
   "metadata": {},
   "outputs": [],
   "source": [
    "!python ./run.py --model_folder ../libs/scibert_scivocab_uncased --model_type bert --task_type acl-arc\n",
    "\n",
    "# scibert_scivocab_uncased"
   ]
  }
 ],
 "metadata": {
  "interpreter": {
   "hash": "ccc93251d6f721491c6fbc0c6bcbe4e9a605d28f77b9a8e19b15e1c61d18557e"
  },
  "kernelspec": {
   "display_name": "Python 3.8.5 64-bit ('myconda': conda)",
   "language": "python",
   "name": "python3"
  },
  "language_info": {
   "codemirror_mode": {
    "name": "ipython",
    "version": 3
   },
   "file_extension": ".py",
   "mimetype": "text/x-python",
   "name": "python",
   "nbconvert_exporter": "python",
   "pygments_lexer": "ipython3",
   "version": "3.8.5"
  },
  "orig_nbformat": 4
 },
 "nbformat": 4,
 "nbformat_minor": 2
}
