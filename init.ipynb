{
 "cells": [
  {
   "cell_type": "code",
   "execution_count": null,
   "metadata": {},
   "outputs": [],
   "source": [
    "# python环境\n",
    "!sh ../TripleC_init.sh"
   ]
  },
  {
   "cell_type": "code",
   "execution_count": 2,
   "metadata": {},
   "outputs": [],
   "source": [
    "# nltk环境，涉及特征抽取\n",
    "!mkdir -p /root/nltk_data/taggers/averaged_perceptron_tagger\n",
    "!cp ../libs/averaged_perceptron_tagger.pickle /root/nltk_data/taggers/averaged_perceptron_tagger"
   ]
  },
  {
   "cell_type": "code",
   "execution_count": null,
   "metadata": {},
   "outputs": [],
   "source": [
    "# !python ./run.py --model_folder ../libs/mpnet_base_hf --model_type mpnet --task_type acl-arc\n",
    "!python ./run.py --model_folder ../libs/scibert_scivocab_uncased --model_type bert --task_type 3c\n",
    "# scibert_scivocab_uncased\n",
    "\n",
    "!python ./run.py --model_folder ../libs/scibert_scivocab_uncased --model_type bert --task_type scicite"
   ]
  },
  {
   "attachments": {},
   "cell_type": "markdown",
   "metadata": {},
   "source": [
    "# 词向量格式转换\n",
    "使用kashgari做基础词向量类的embedding\n",
    "要求的格式为：\n",
    "```\n",
    "词表长度 词向量维度\n",
    "word1 vector_1 ... vector_n\n",
    "word2 ...\n",
    "...\n",
    "```\n",
    "范例如下："
   ]
  },
  {
   "cell_type": "code",
   "execution_count": null,
   "metadata": {},
   "outputs": [],
   "source": [
    "from tqdm import tqdm\n",
    "vectors = []\n",
    "with open('../libs/glove.6B.100d.txt', 'r') as f:\n",
    "    for line in f.readlines():\n",
    "        vectors.append(line)\n",
    "\n",
    "with open('../libs/glove.6B.100d.dim.txt', 'w') as f:\n",
    "    f.write(f\"{len(vectors)} 100\\n\")\n",
    "    for vector in tqdm(vectors):\n",
    "        f.write(vector)"
   ]
  },
  {
   "attachments": {},
   "cell_type": "markdown",
   "metadata": {},
   "source": [
    "基础词向量类均支持，确保文件格式正确即可"
   ]
  },
  {
   "cell_type": "code",
   "execution_count": null,
   "metadata": {},
   "outputs": [],
   "source": [
    "!python ./run.py --model_folder ../libs/glove.6B.100d.dim.txt --model_type w2v --task_type acl-arc"
   ]
  },
  {
   "attachments": {},
   "cell_type": "markdown",
   "metadata": {},
   "source": [
    "train_sci_cross之前已支持scicite，本次增加了train_sci_cross中的数据集划分方式 solid_rate，参见run.py line42，需要指定test集标签比例，获取范例如下"
   ]
  },
  {
   "cell_type": "code",
   "execution_count": 11,
   "metadata": {},
   "outputs": [
    {
     "name": "stdout",
     "output_type": "stream",
     "text": [
      "{'1': 997, '0': 259, '2': 605}\n"
     ]
    }
   ],
   "source": [
    "stat = {}\n",
    "with open('./datasets/scicite/test.tsv', 'r') as f:\n",
    "    for line in f.readlines():\n",
    "\n",
    "        _,_, label = line.strip().split('\\t')\n",
    "        stat[label] = stat.get(label,0)+1\n",
    "print(stat)\n"
   ]
  }
 ],
 "metadata": {
  "interpreter": {
   "hash": "ccc93251d6f721491c6fbc0c6bcbe4e9a605d28f77b9a8e19b15e1c61d18557e"
  },
  "kernelspec": {
   "display_name": "myconda",
   "language": "python",
   "name": "myconda"
  },
  "orig_nbformat": 4
 },
 "nbformat": 4,
 "nbformat_minor": 2
}
